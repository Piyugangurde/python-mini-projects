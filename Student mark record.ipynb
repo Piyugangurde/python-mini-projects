{
 "cells": [
  {
   "cell_type": "code",
   "execution_count": null,
   "id": "8b7dfcfc-ea2c-4ceb-86a8-414178a0b68d",
   "metadata": {},
   "outputs": [],
   "source": [
    "names = [\"Piyush\",\"Ved\",\"Avishi\"]\n",
    "marks = [99,85,76]\n",
    "print(\"student marks:\")\n",
    "for i in range(len(names)):\n",
    "    print(names[i],\"scored\",marks[i])\n",
    "total = total + mark\n",
    "average = total/len(marks)\n",
    "print(\"Average marks =\",average)\n",
    "highest = marks[0]\n",
    "topper_index = 0 \n",
    "for i in range (1,len(marks)):\n",
    "    if(marks[i] > highest):\n",
    "        highest = marks[i]\n",
    "        topper_index = i \n",
    "print(\"Topper is:\",names[topper_index],\"with\",highest,\"marks\")"
   ]
  }
 ],
 "metadata": {
  "kernelspec": {
   "display_name": "Python [conda env:base] *",
   "language": "python",
   "name": "conda-base-py"
  },
  "language_info": {
   "codemirror_mode": {
    "name": "ipython",
    "version": 3
   },
   "file_extension": ".py",
   "mimetype": "text/x-python",
   "name": "python",
   "nbconvert_exporter": "python",
   "pygments_lexer": "ipython3",
   "version": "3.12.7"
  }
 },
 "nbformat": 4,
 "nbformat_minor": 5
}
